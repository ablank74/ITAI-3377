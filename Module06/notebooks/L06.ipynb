{
 "cells": [
  {
   "cell_type": "code",
   "execution_count": 3,
   "id": "94127736-ed61-43a9-9323-30e0db6691dd",
   "metadata": {},
   "outputs": [],
   "source": [
    "# Importing the libraries\n",
    "\n",
    "import pandas as pd\n",
    "from mlforecast import MLForecast\n",
    "from mlforecast.lag_transforms import ExpandingMean, RollingMean\n",
    "from mlforecast.target_transforms import Differences\n",
    "import matplotlib.pyplot as plt\n",
    "from sklearn.model_selection import train_test_split\n",
    "from sklearn.preprocessing import MinMaxScaler\n",
    "from sklearn.metrics import mean_absolute_error, mean_squared_error\n",
    "from sklearn.ensemble import RandomForestRegressor, GradientBoostingRegressor\n",
    "import numpy as np\n",
    "import seaborn as sns\n",
    "import multiprocessing\n",
    "import tensorflow as tf\n",
    "from tensorflow.keras import layers, Model\n"
   ]
  },
  {
   "cell_type": "markdown",
   "id": "e0ac4a20",
   "metadata": {},
   "source": [
    "Data Preparation\n",
    "\n",
    "Download the dataset from Kaggle.\n",
    "Load the dataset and inspect it for missing values, outliers, and normalization requirements.\n",
    "Split the dataset into training and testing sets."
   ]
  },
  {
   "cell_type": "markdown",
   "id": "7568cca0",
   "metadata": {},
   "source": [
    "The dataset was downloaded from Kaggle at https://www.kaggle.com/code/koheimuramatsu/iot-temperature-forecasting"
   ]
  },
  {
   "cell_type": "code",
   "execution_count": 4,
   "id": "4fd64cf1",
   "metadata": {},
   "outputs": [
    {
     "name": "stdout",
     "output_type": "stream",
     "text": [
      "                                    id  room_id/id        noted_date  temp  \\\n",
      "0  __export__.temp_log_196134_bd201015  Room Admin  08-12-2018 09:30    29   \n",
      "1  __export__.temp_log_196131_7bca51bc  Room Admin  08-12-2018 09:30    29   \n",
      "2  __export__.temp_log_196127_522915e3  Room Admin  08-12-2018 09:29    41   \n",
      "3  __export__.temp_log_196128_be0919cf  Room Admin  08-12-2018 09:29    41   \n",
      "4  __export__.temp_log_196126_d30b72fb  Room Admin  08-12-2018 09:29    31   \n",
      "\n",
      "  out/in  \n",
      "0     In  \n",
      "1     In  \n",
      "2    Out  \n",
      "3    Out  \n",
      "4     In  \n",
      "Missing Valies id            0\n",
      "room_id/id    0\n",
      "noted_date    0\n",
      "temp          0\n",
      "out/in        0\n",
      "dtype: int64\n"
     ]
    }
   ],
   "source": [
    "# Load the dataset\n",
    "df = pd.read_csv('IOT-temp.csv')\n",
    "\n",
    "# Examine the dataset by printing the column names and first 5 rows\n",
    "print(df.head())\n",
    "\n",
    "# Check for NA values in the dataset\n",
    "missing_values = df.isnull().sum()\n",
    "\n",
    "print('Missing Valies', missing_values)"
   ]
  },
  {
   "cell_type": "code",
   "execution_count": 5,
   "id": "91b0fb25",
   "metadata": {},
   "outputs": [
    {
     "data": {
      "text/html": [
       "<div>\n",
       "<style scoped>\n",
       "    .dataframe tbody tr th:only-of-type {\n",
       "        vertical-align: middle;\n",
       "    }\n",
       "\n",
       "    .dataframe tbody tr th {\n",
       "        vertical-align: top;\n",
       "    }\n",
       "\n",
       "    .dataframe thead th {\n",
       "        text-align: right;\n",
       "    }\n",
       "</style>\n",
       "<table border=\"1\" class=\"dataframe\">\n",
       "  <thead>\n",
       "    <tr style=\"text-align: right;\">\n",
       "      <th></th>\n",
       "      <th>id</th>\n",
       "      <th>room_id/id</th>\n",
       "      <th>noted_date</th>\n",
       "      <th>temp</th>\n",
       "      <th>out/in</th>\n",
       "    </tr>\n",
       "  </thead>\n",
       "  <tbody>\n",
       "    <tr>\n",
       "      <th>0</th>\n",
       "      <td>__export__.temp_log_196134_bd201015</td>\n",
       "      <td>Room Admin</td>\n",
       "      <td>08-12-2018 09:30</td>\n",
       "      <td>29</td>\n",
       "      <td>In</td>\n",
       "    </tr>\n",
       "    <tr>\n",
       "      <th>1</th>\n",
       "      <td>__export__.temp_log_196131_7bca51bc</td>\n",
       "      <td>Room Admin</td>\n",
       "      <td>08-12-2018 09:30</td>\n",
       "      <td>29</td>\n",
       "      <td>In</td>\n",
       "    </tr>\n",
       "    <tr>\n",
       "      <th>2</th>\n",
       "      <td>__export__.temp_log_196127_522915e3</td>\n",
       "      <td>Room Admin</td>\n",
       "      <td>08-12-2018 09:29</td>\n",
       "      <td>41</td>\n",
       "      <td>Out</td>\n",
       "    </tr>\n",
       "    <tr>\n",
       "      <th>3</th>\n",
       "      <td>__export__.temp_log_196128_be0919cf</td>\n",
       "      <td>Room Admin</td>\n",
       "      <td>08-12-2018 09:29</td>\n",
       "      <td>41</td>\n",
       "      <td>Out</td>\n",
       "    </tr>\n",
       "    <tr>\n",
       "      <th>4</th>\n",
       "      <td>__export__.temp_log_196126_d30b72fb</td>\n",
       "      <td>Room Admin</td>\n",
       "      <td>08-12-2018 09:29</td>\n",
       "      <td>31</td>\n",
       "      <td>In</td>\n",
       "    </tr>\n",
       "    <tr>\n",
       "      <th>...</th>\n",
       "      <td>...</td>\n",
       "      <td>...</td>\n",
       "      <td>...</td>\n",
       "      <td>...</td>\n",
       "      <td>...</td>\n",
       "    </tr>\n",
       "    <tr>\n",
       "      <th>97601</th>\n",
       "      <td>__export__.temp_log_91076_7fbd08ca</td>\n",
       "      <td>Room Admin</td>\n",
       "      <td>28-07-2018 07:07</td>\n",
       "      <td>31</td>\n",
       "      <td>In</td>\n",
       "    </tr>\n",
       "    <tr>\n",
       "      <th>97602</th>\n",
       "      <td>__export__.temp_log_147733_62c03f31</td>\n",
       "      <td>Room Admin</td>\n",
       "      <td>28-07-2018 07:07</td>\n",
       "      <td>31</td>\n",
       "      <td>In</td>\n",
       "    </tr>\n",
       "    <tr>\n",
       "      <th>97603</th>\n",
       "      <td>__export__.temp_log_100386_84093a68</td>\n",
       "      <td>Room Admin</td>\n",
       "      <td>28-07-2018 07:06</td>\n",
       "      <td>31</td>\n",
       "      <td>In</td>\n",
       "    </tr>\n",
       "    <tr>\n",
       "      <th>97604</th>\n",
       "      <td>__export__.temp_log_123297_4d8e690b</td>\n",
       "      <td>Room Admin</td>\n",
       "      <td>28-07-2018 07:06</td>\n",
       "      <td>31</td>\n",
       "      <td>In</td>\n",
       "    </tr>\n",
       "    <tr>\n",
       "      <th>97605</th>\n",
       "      <td>__export__.temp_log_133741_32958703</td>\n",
       "      <td>Room Admin</td>\n",
       "      <td>28-07-2018 07:06</td>\n",
       "      <td>31</td>\n",
       "      <td>In</td>\n",
       "    </tr>\n",
       "  </tbody>\n",
       "</table>\n",
       "<p>97606 rows × 5 columns</p>\n",
       "</div>"
      ],
      "text/plain": [
       "                                        id  room_id/id        noted_date  \\\n",
       "0      __export__.temp_log_196134_bd201015  Room Admin  08-12-2018 09:30   \n",
       "1      __export__.temp_log_196131_7bca51bc  Room Admin  08-12-2018 09:30   \n",
       "2      __export__.temp_log_196127_522915e3  Room Admin  08-12-2018 09:29   \n",
       "3      __export__.temp_log_196128_be0919cf  Room Admin  08-12-2018 09:29   \n",
       "4      __export__.temp_log_196126_d30b72fb  Room Admin  08-12-2018 09:29   \n",
       "...                                    ...         ...               ...   \n",
       "97601   __export__.temp_log_91076_7fbd08ca  Room Admin  28-07-2018 07:07   \n",
       "97602  __export__.temp_log_147733_62c03f31  Room Admin  28-07-2018 07:07   \n",
       "97603  __export__.temp_log_100386_84093a68  Room Admin  28-07-2018 07:06   \n",
       "97604  __export__.temp_log_123297_4d8e690b  Room Admin  28-07-2018 07:06   \n",
       "97605  __export__.temp_log_133741_32958703  Room Admin  28-07-2018 07:06   \n",
       "\n",
       "       temp out/in  \n",
       "0        29     In  \n",
       "1        29     In  \n",
       "2        41    Out  \n",
       "3        41    Out  \n",
       "4        31     In  \n",
       "...     ...    ...  \n",
       "97601    31     In  \n",
       "97602    31     In  \n",
       "97603    31     In  \n",
       "97604    31     In  \n",
       "97605    31     In  \n",
       "\n",
       "[97606 rows x 5 columns]"
      ]
     },
     "execution_count": 5,
     "metadata": {},
     "output_type": "execute_result"
    }
   ],
   "source": [
    "# Remove any rows with NA values\n",
    "df.dropna()"
   ]
  },
  {
   "cell_type": "code",
   "execution_count": 6,
   "id": "aa56b094",
   "metadata": {},
   "outputs": [
    {
     "data": {
      "image/png": "[encoded data removed]",
      "text/plain": [
       "<Figure size 1000x500 with 1 Axes>"
      ]
     },
     "metadata": {},
     "output_type": "display_data"
    }
   ],
   "source": [
    "\n",
    "# Select numeric columns for outlier detection\n",
    "numeric_columns = df.select_dtypes(include=['float64', 'int64']).columns\n",
    "\n",
    "# Plot box plots for each numeric column\n",
    "for column in numeric_columns:\n",
    "    plt.figure(figsize=(10, 5))\n",
    "    sns.boxplot(x=df[column])\n",
    "    plt.title(f'Box plot of {column}')\n",
    "    plt.show()\n"
   ]
  },
  {
   "cell_type": "code",
   "execution_count": 7,
   "id": "56c191c7",
   "metadata": {},
   "outputs": [
    {
     "data": {
      "image/png": "[encoded data removed]",
      "text/plain": [
       "<Figure size 1000x500 with 1 Axes>"
      ]
     },
     "metadata": {},
     "output_type": "display_data"
    }
   ],
   "source": [
    "# Plot histograms for each numeric column\n",
    "for column in numeric_columns:\n",
    "    plt.figure(figsize=(10, 5))\n",
    "    df[column].hist(bins=30)\n",
    "    plt.title(f'Histogram of {column}')\n",
    "    plt.xlabel(column)\n",
    "    plt.ylabel('Frequency')\n",
    "    plt.show()\n"
   ]
  },
  {
   "cell_type": "code",
   "execution_count": 8,
   "id": "9b320e7c",
   "metadata": {},
   "outputs": [],
   "source": [
    "# Normalize the data to a range between 0 and 1\n",
    "scaler = MinMaxScaler()\n",
    "df[numeric_columns] = scaler.fit_transform(df[numeric_columns])\n"
   ]
  },
  {
   "cell_type": "code",
   "execution_count": 9,
   "id": "7fc4f7b4",
   "metadata": {},
   "outputs": [
    {
     "name": "stdout",
     "output_type": "stream",
     "text": [
      "Training set: (78084, 5)\n",
      "Testing set: (19522, 5)\n"
     ]
    }
   ],
   "source": [
    "# Split the dataset into Test and Train\n",
    "\n",
    "# Train-test split based on time series\n",
    "train_size = int(len(df) * 0.8)\n",
    "train, test = df[:train_size], df[train_size:]\n",
    "\n",
    "print(f\"Training set: {train.shape}\")\n",
    "print(f\"Testing set: {test.shape}\")"
   ]
  },
  {
   "cell_type": "markdown",
   "id": "7d38c0e6",
   "metadata": {},
   "source": [
    "Model Selection and Training\n",
    "\n",
    "Explore Nixtla's AutoML capabilities to select and train a forecasting model suitable for this dataset.\n",
    "Document the model selection process and the reasoning behind the chosen model."
   ]
  },
  {
   "cell_type": "code",
   "execution_count": 10,
   "id": "c8df7094",
   "metadata": {},
   "outputs": [
    {
     "name": "stdout",
     "output_type": "stream",
     "text": [
      "<class 'pandas.core.frame.DataFrame'>\n",
      "RangeIndex: 97606 entries, 0 to 97605\n",
      "Data columns (total 3 columns):\n",
      " #   Column     Non-Null Count  Dtype         \n",
      "---  ------     --------------  -----         \n",
      " 0   unique_id  97606 non-null  object        \n",
      " 1   ds         97606 non-null  datetime64[ns]\n",
      " 2   y          97606 non-null  float64       \n",
      "dtypes: datetime64[ns](1), float64(1), object(1)\n",
      "memory usage: 2.2+ MB\n",
      "None\n",
      "                                  ds             y\n",
      "count                          97606  97606.000000\n",
      "mean   2018-10-07 05:10:38.821178880      0.468464\n",
      "min              2018-07-28 07:06:00      0.000000\n",
      "25%              2018-09-11 07:48:00      0.300000\n",
      "50%              2018-10-17 05:10:00      0.466667\n",
      "75%              2018-10-18 13:46:00      0.633333\n",
      "max              2018-12-08 09:30:00      1.000000\n",
      "std                              NaN      0.189994\n",
      "Training set: (78084, 3)\n",
      "Testing set: (19522, 3)\n",
      "Fitting RandomForrest...\n",
      "Fitting GradientBoosting...\n"
     ]
    }
   ],
   "source": [
    "# Check if columns have already been renamed\n",
    "if 'ds' in df.columns and 'y' in df.columns:\n",
    "    print(\"Columns already renamed\")\n",
    "else:\n",
    "    # Convert 'noted_date' to datetime format\n",
    "    df['noted_date'] = pd.to_datetime(df['noted_date'], format='%d-%m-%Y %H:%M')\n",
    "\n",
    "    # Rename columns to match the expected format for MLForecast\n",
    "    df = df.rename(columns={'noted_date': 'ds', 'temp': 'y'})\n",
    "    df['unique_id'] = 'temperature_series'  # Assuming a single time series\n",
    "\n",
    "\n",
    "\n",
    "# Reorder columns to the expected order\n",
    "df = df[['unique_id', 'ds', 'y']]\n",
    "\n",
    "# Basic information and statistics\n",
    "print(df.info())\n",
    "print(df.describe())\n",
    "\n",
    "# Train-test split based on time series\n",
    "train_size = int(len(df) * 0.8)\n",
    "train, test = df[:train_size], df[train_size:]\n",
    "\n",
    "print(f\"Training set: {train.shape}\")\n",
    "print(f\"Testing set: {test.shape}\")\n",
    "\n",
    "models = {\n",
    "    'RandomForrest': RandomForestRegressor(n_estimators=100),\n",
    "    'GradientBoosting': GradientBoostingRegressor(n_estimators=100)\n",
    "}\n",
    "\n",
    "results = {}\n",
    "\n",
    "for model_name, model in models.items():\n",
    "    print(f\"Fitting {model_name}...\")\n",
    "    forecaster = MLForecast(\n",
    "        models=[\n",
    "            (model)\n",
    "        ],\n",
    "        freq='D',  # Daily frequency\n",
    "        lags=[1, 2, 3],  # Include lags 1, 2, and 3\n",
    "        date_features=['year', 'month', 'day'],  # Include year, month, and day as date features\n",
    "        num_threads= multiprocessing.cpu_count()  # Use cores from above for parallel processing\n",
    "    )\n",
    "\n",
    "    forecaster.fit(train)\n",
    "    predictions = forecaster.predict(len(test))\n",
    "\n",
    "    results[model_name] = predictions\n"
   ]
  },
  {
   "cell_type": "markdown",
   "id": "fec42e1e",
   "metadata": {},
   "source": [
    "Plotting the output comparing Test vs RandomForrestRegression and GradientBoostingRegression"
   ]
  },
  {
   "cell_type": "code",
   "execution_count": 11,
   "id": "e3c11924",
   "metadata": {},
   "outputs": [
    {
     "data": {
      "image/png": "[encoded data removed]",
      "text/plain": [
       "<Figure size 1200x600 with 1 Axes>"
      ]
     },
     "metadata": {},
     "output_type": "display_data"
    }
   ],
   "source": [
    "# Plot the results\n",
    "plt.figure(figsize=(12, 6))\n",
    "plt.plot(test['ds'], test['y'], label='True values')\n",
    "\n",
    "# Extract and plot predictions for each model\n",
    "for model_name, predictions_df in results.items():\n",
    "    # Extract the prediction column (third column in the DataFrame)\n",
    "    predictions_series = predictions_df.iloc[:, 2]\n",
    "    plt.plot(test['ds'], predictions_series, label=model_name)\n",
    "\n",
    "plt.title('Temperature Forecasting')\n",
    "plt.xlabel('Date')\n",
    "plt.ylabel('Temperature')\n",
    "plt.legend()\n",
    "plt.show()"
   ]
  },
  {
   "cell_type": "markdown",
   "id": "b279d433",
   "metadata": {},
   "source": [
    "Evaluation\n",
    "\n",
    "Evaluate your model using appropriate time series metrics (e.g., MAE, MSE, MASE).\n",
    "Perform rolling-origin cross-validation to ensure the model's robustness.\n",
    "Summarize the evaluation results and discuss potential improvements."
   ]
  },
  {
   "cell_type": "code",
   "execution_count": 12,
   "id": "b0a4e783",
   "metadata": {},
   "outputs": [
    {
     "name": "stdout",
     "output_type": "stream",
     "text": [
      "Model Evaluation:\n",
      "RandomForrest: MAE = 0.201, MSE = 0.047\n",
      "GradientBoosting: MAE = 0.205, MSE = 0.047\n",
      "Closer to 0 is better\n"
     ]
    }
   ],
   "source": [
    "# Evaluate the models\n",
    "\n",
    "print(\"Model Evaluation:\")\n",
    "for model_name, predictions_df in results.items():\n",
    "    predictions_series = predictions_df.iloc[:, 2]  # Extract the prediction column\n",
    "    mae = mean_absolute_error(test['y'], predictions_series)\n",
    "    mse = mean_squared_error(test['y'], predictions_series)\n",
    "    print(f\"{model_name}: MAE = {mae:.3f}, MSE = {mse:.3f}\")\n",
    "print(\"Closer to 0 is better\")"
   ]
  },
  {
   "cell_type": "markdown",
   "id": "2fda7a48",
   "metadata": {},
   "source": [
    "Rolling-origin cross-validation to ensure the model's robustness."
   ]
  },
  {
   "cell_type": "code",
   "execution_count": 13,
   "id": "e7b048e4",
   "metadata": {},
   "outputs": [
    {
     "name": "stdout",
     "output_type": "stream",
     "text": [
      "Rolling-Origin Cross-Validation Results:\n",
      "        mae       mse\n",
      "0  0.211208  0.053442\n",
      "1  0.261921  0.075277\n",
      "2  0.296609  0.087977\n",
      "\n",
      "Average MAE: 0.2565794468295495\n",
      "Average MSE: 0.07223196713893469\n"
     ]
    }
   ],
   "source": [
    "# Function to perform rolling-origin cross-validation\n",
    "def rolling_origin_cv(df, model, window_size, step_size):\n",
    "    results = []\n",
    "    n = len(df)\n",
    "    \n",
    "    for start in range(0, n - window_size, step_size):\n",
    "        train = df.iloc[start:start + window_size]\n",
    "        test = df.iloc[start + window_size:start + window_size + step_size]\n",
    "        \n",
    "        forecaster = MLForecast(\n",
    "            models=[model],\n",
    "            freq='D',\n",
    "            lags=[1, 2, 3],\n",
    "            date_features=['year', 'month', 'day'],\n",
    "            num_threads=multiprocessing.cpu_count()  # Automatically use all available cores\n",
    "        )\n",
    "        \n",
    "        forecaster.fit(train, id_col='unique_id', time_col='ds', target_col='y')\n",
    "        \n",
    "        predictions = forecaster.predict(len(test))\n",
    "\n",
    "        # Ensure predictions are flattened if necessary\n",
    "        if isinstance(predictions, pd.DataFrame):\n",
    "            predictions = predictions.iloc[:, -1].values\n",
    "\n",
    "        mae = mean_absolute_error(test['y'], predictions)\n",
    "        mse = mean_squared_error(test['y'], predictions)\n",
    "        \n",
    "        results.append({'mae': mae, 'mse': mse})\n",
    "    \n",
    "    return pd.DataFrame(results)\n",
    "\n",
    "# Use the correct subset of the dataframe\n",
    "unique_df = df[['unique_id', 'ds', 'y']]\n",
    "\n",
    "# Parameters for rolling-origin cross-validation\n",
    "window_size = int(len(unique_df) * 0.6)  # Initial training window size (60% of data)\n",
    "step_size = int(len(unique_df) * 0.2)    # Step size for moving window (20% of data)\n",
    "\n",
    "# Define the model to evaluate\n",
    "model = RandomForestRegressor(n_estimators=100)\n",
    "\n",
    "# Perform rolling-origin cross-validation\n",
    "cv_results = rolling_origin_cv(unique_df, model, window_size, step_size)\n",
    "\n",
    "# Print results\n",
    "print(\"Rolling-Origin Cross-Validation Results:\")\n",
    "print(cv_results)\n",
    "print(\"\\nAverage MAE:\", cv_results['mae'].mean())\n",
    "print(\"Average MSE:\", cv_results['mse'].mean())\n"
   ]
  },
  {
   "cell_type": "markdown",
   "id": "a8284e6c",
   "metadata": {},
   "source": [
    "Summarize the evaluation results and discuss potential improvements."
   ]
  },
  {
   "cell_type": "markdown",
   "id": "c6fa418d",
   "metadata": {},
   "source": [
    "From previous comparisions it was determined that a RandomForrestRegressor worked better than a GradientBoostingRegression model.  We continued to use this model for the VAE stage to see how it performs with additional data through the Rolling-Origin Cross-Validtion testing.  Examining the MAE and MSE and finding that the averaged scores were close to the original training values.  I believe this can be improvied using a larger training section, and work on additional training epochs while monitoring to avoid overfitting."
   ]
  },
  {
   "cell_type": "markdown",
   "id": "aff550eb",
   "metadata": {},
   "source": [
    "# Generative Modeling\n",
    "\n",
    "Apply a Variational Autoencoder (VAE) to generate synthetic time series data (as GANs can be computationally intensive).\n",
    "Use the generated data to augment your training set.\n",
    "Re-train your model with the augmented dataset and evaluate the performance improvements."
   ]
  },
  {
   "cell_type": "code",
   "execution_count": 14,
   "id": "018c53d3",
   "metadata": {},
   "outputs": [],
   "source": [
    "# Load the dataset\n",
    "data = pd.read_csv('IOT-temp.csv')\n",
    "\n",
    "# Inspect for missing values and outliers, normalize if necessary\n",
    "data = data.dropna()  # Simple handling of missing values\n",
    "\n",
    "# Assuming 'value' is the column with the temperature data\n",
    "values = data['temp'].values.reshape(-1, 1)\n",
    "\n",
    "# Normalize the data\n",
    "scaler = MinMaxScaler()\n",
    "values_normalized = scaler.fit_transform(values)\n",
    "\n",
    "# Split the data into training and testing sets\n",
    "train_data, test_data = train_test_split(values_normalized, test_size=0.2, shuffle=False)\n"
   ]
  },
  {
   "cell_type": "code",
   "execution_count": 15,
   "id": "ed966ce2",
   "metadata": {},
   "outputs": [
    {
     "data": {
      "text/html": [
       "<pre style=\"white-space:pre;overflow-x:auto;line-height:normal;font-family:Menlo,'DejaVu Sans Mono',consolas,'Courier New',monospace\"><span style=\"font-weight: bold\">Model: \"vae\"</span>\n",
       "</pre>\n"
      ],
      "text/plain": [
       "\u001b[1mModel: \"vae\"\u001b[0m\n"
      ]
     },
     "metadata": {},
     "output_type": "display_data"
    },
    {
     "data": {
      "text/html": [
       "<pre style=\"white-space:pre;overflow-x:auto;line-height:normal;font-family:Menlo,'DejaVu Sans Mono',consolas,'Courier New',monospace\">┏━━━━━━━━━━━━━━━━━━━━━━━━━━━━━━━━━┳━━━━━━━━━━━━━━━━━━━━━━━━┳━━━━━━━━━━━━━━━┓\n",
       "┃<span style=\"font-weight: bold\"> Layer (type)                    </span>┃<span style=\"font-weight: bold\"> Output Shape           </span>┃<span style=\"font-weight: bold\">       Param # </span>┃\n",
       "┡━━━━━━━━━━━━━━━━━━━━━━━━━━━━━━━━━╇━━━━━━━━━━━━━━━━━━━━━━━━╇━━━━━━━━━━━━━━━┩\n",
       "│ encoder (<span style=\"color: #0087ff; text-decoration-color: #0087ff\">Functional</span>)            │ [(<span style=\"color: #00d7ff; text-decoration-color: #00d7ff\">None</span>, <span style=\"color: #00af00; text-decoration-color: #00af00\">2</span>), (<span style=\"color: #00d7ff; text-decoration-color: #00d7ff\">None</span>, <span style=\"color: #00af00; text-decoration-color: #00af00\">2</span>), │           <span style=\"color: #00af00; text-decoration-color: #00af00\">100</span> │\n",
       "│                                 │ (<span style=\"color: #00d7ff; text-decoration-color: #00d7ff\">None</span>, <span style=\"color: #00af00; text-decoration-color: #00af00\">2</span>)]             │               │\n",
       "├─────────────────────────────────┼────────────────────────┼───────────────┤\n",
       "│ decoder (<span style=\"color: #0087ff; text-decoration-color: #0087ff\">Functional</span>)            │ (<span style=\"color: #00d7ff; text-decoration-color: #00d7ff\">None</span>, <span style=\"color: #00af00; text-decoration-color: #00af00\">1</span>)              │            <span style=\"color: #00af00; text-decoration-color: #00af00\">65</span> │\n",
       "└─────────────────────────────────┴────────────────────────┴───────────────┘\n",
       "</pre>\n"
      ],
      "text/plain": [
       "┏━━━━━━━━━━━━━━━━━━━━━━━━━━━━━━━━━┳━━━━━━━━━━━━━━━━━━━━━━━━┳━━━━━━━━━━━━━━━┓\n",
       "┃\u001b[1m \u001b[0m\u001b[1mLayer (type)                   \u001b[0m\u001b[1m \u001b[0m┃\u001b[1m \u001b[0m\u001b[1mOutput Shape          \u001b[0m\u001b[1m \u001b[0m┃\u001b[1m \u001b[0m\u001b[1m      Param #\u001b[0m\u001b[1m \u001b[0m┃\n",
       "┡━━━━━━━━━━━━━━━━━━━━━━━━━━━━━━━━━╇━━━━━━━━━━━━━━━━━━━━━━━━╇━━━━━━━━━━━━━━━┩\n",
       "│ encoder (\u001b[38;5;33mFunctional\u001b[0m)            │ [(\u001b[38;5;45mNone\u001b[0m, \u001b[38;5;34m2\u001b[0m), (\u001b[38;5;45mNone\u001b[0m, \u001b[38;5;34m2\u001b[0m), │           \u001b[38;5;34m100\u001b[0m │\n",
       "│                                 │ (\u001b[38;5;45mNone\u001b[0m, \u001b[38;5;34m2\u001b[0m)]             │               │\n",
       "├─────────────────────────────────┼────────────────────────┼───────────────┤\n",
       "│ decoder (\u001b[38;5;33mFunctional\u001b[0m)            │ (\u001b[38;5;45mNone\u001b[0m, \u001b[38;5;34m1\u001b[0m)              │            \u001b[38;5;34m65\u001b[0m │\n",
       "└─────────────────────────────────┴────────────────────────┴───────────────┘\n"
      ]
     },
     "metadata": {},
     "output_type": "display_data"
    },
    {
     "data": {
      "text/html": [
       "<pre style=\"white-space:pre;overflow-x:auto;line-height:normal;font-family:Menlo,'DejaVu Sans Mono',consolas,'Courier New',monospace\"><span style=\"font-weight: bold\"> Total params: </span><span style=\"color: #00af00; text-decoration-color: #00af00\">165</span> (660.00 B)\n",
       "</pre>\n"
      ],
      "text/plain": [
       "\u001b[1m Total params: \u001b[0m\u001b[38;5;34m165\u001b[0m (660.00 B)\n"
      ]
     },
     "metadata": {},
     "output_type": "display_data"
    },
    {
     "data": {
      "text/html": [
       "<pre style=\"white-space:pre;overflow-x:auto;line-height:normal;font-family:Menlo,'DejaVu Sans Mono',consolas,'Courier New',monospace\"><span style=\"font-weight: bold\"> Trainable params: </span><span style=\"color: #00af00; text-decoration-color: #00af00\">165</span> (660.00 B)\n",
       "</pre>\n"
      ],
      "text/plain": [
       "\u001b[1m Trainable params: \u001b[0m\u001b[38;5;34m165\u001b[0m (660.00 B)\n"
      ]
     },
     "metadata": {},
     "output_type": "display_data"
    },
    {
     "data": {
      "text/html": [
       "<pre style=\"white-space:pre;overflow-x:auto;line-height:normal;font-family:Menlo,'DejaVu Sans Mono',consolas,'Courier New',monospace\"><span style=\"font-weight: bold\"> Non-trainable params: </span><span style=\"color: #00af00; text-decoration-color: #00af00\">0</span> (0.00 B)\n",
       "</pre>\n"
      ],
      "text/plain": [
       "\u001b[1m Non-trainable params: \u001b[0m\u001b[38;5;34m0\u001b[0m (0.00 B)\n"
      ]
     },
     "metadata": {},
     "output_type": "display_data"
    }
   ],
   "source": [
    "\n",
    "\n",
    "# Define the encoder\n",
    "latent_dim = 2\n",
    "\n",
    "encoder_inputs = tf.keras.Input(shape=(1,))\n",
    "x = layers.Dense(16, activation='relu')(encoder_inputs)\n",
    "z_mean = layers.Dense(latent_dim, name='z_mean')(x)\n",
    "z_log_var = layers.Dense(latent_dim, name='z_log_var')(x)\n",
    "\n",
    "# Sampling layer\n",
    "def sampling(args):\n",
    "    z_mean, z_log_var = args\n",
    "    batch = tf.shape(z_mean)[0]\n",
    "    dim = tf.shape(z_mean)[1]\n",
    "    epsilon = tf.keras.backend.random_normal(shape=(batch, dim))\n",
    "    return z_mean + tf.exp(0.5 * z_log_var) * epsilon\n",
    "\n",
    "z = layers.Lambda(sampling, output_shape=(latent_dim,), name='z')([z_mean, z_log_var])\n",
    "\n",
    "encoder = Model(encoder_inputs, [z_mean, z_log_var, z], name='encoder')\n",
    "\n",
    "# Define the decoder\n",
    "decoder_inputs = tf.keras.Input(shape=(latent_dim,))\n",
    "x = layers.Dense(16, activation='relu')(decoder_inputs)\n",
    "decoder_outputs = layers.Dense(1, activation='sigmoid')(x)\n",
    "decoder = Model(decoder_inputs, decoder_outputs, name='decoder')\n",
    "\n",
    "# Define the VAE model\n",
    "vae_outputs = decoder(encoder(encoder_inputs)[2])\n",
    "vae = Model(encoder_inputs, vae_outputs, name='vae')\n",
    "\n",
    "\n",
    "# This section required help from ChatGPT/CoPilot to get this to work.\n",
    "\n",
    "# Define the VAE loss within the model's compile method\n",
    "def vae_loss(inputs, outputs, z_mean, z_log_var):\n",
    "    reconstruction_loss = tf.reduce_mean(tf.square(inputs - outputs))  # Mean Squared Error\n",
    "    kl_loss = 1 + z_log_var - tf.square(z_mean) - tf.exp(z_log_var)\n",
    "    kl_loss = tf.reduce_mean(kl_loss) * -0.5\n",
    "    return reconstruction_loss + kl_loss\n",
    "\n",
    "# Custom training step\n",
    "class VAE(tf.keras.Model):\n",
    "    def __init__(self, encoder, decoder, **kwargs):\n",
    "        super(VAE, self).__init__(**kwargs)\n",
    "        self.encoder = encoder\n",
    "        self.decoder = decoder\n",
    "\n",
    "    def call(self, inputs):\n",
    "        z_mean, z_log_var, z = self.encoder(inputs)\n",
    "        reconstructed = self.decoder(z)\n",
    "        reconstruction_loss = tf.reduce_mean(tf.square(inputs - reconstructed))\n",
    "        kl_loss = 1 + z_log_var - tf.square(z_mean) - tf.exp(z_log_var)\n",
    "        kl_loss = tf.reduce_mean(kl_loss) * -0.5\n",
    "        total_loss = reconstruction_loss + kl_loss\n",
    "        self.add_loss(total_loss)\n",
    "        return reconstructed\n",
    "\n",
    "vae = VAE(encoder, decoder)\n",
    "vae.compile(optimizer='adam')\n",
    "vae.summary()\n"
   ]
  },
  {
   "cell_type": "code",
   "execution_count": 16,
   "id": "b563c90a",
   "metadata": {},
   "outputs": [
    {
     "name": "stdout",
     "output_type": "stream",
     "text": [
      "Epoch 1/50\n",
      "\u001b[1m2441/2441\u001b[0m \u001b[32m━━━━━━━━━━━━━━━━━━━━\u001b[0m\u001b[37m\u001b[0m \u001b[1m4s\u001b[0m 1ms/step - loss: 0.0378 - val_loss: 0.0483\n",
      "Epoch 2/50\n",
      "\u001b[1m2441/2441\u001b[0m \u001b[32m━━━━━━━━━━━━━━━━━━━━\u001b[0m\u001b[37m\u001b[0m \u001b[1m2s\u001b[0m 939us/step - loss: 0.0354 - val_loss: 0.0489\n",
      "Epoch 3/50\n",
      "\u001b[1m2441/2441\u001b[0m \u001b[32m━━━━━━━━━━━━━━━━━━━━\u001b[0m\u001b[37m\u001b[0m \u001b[1m2s\u001b[0m 897us/step - loss: 0.0353 - val_loss: 0.0504\n",
      "Epoch 4/50\n",
      "\u001b[1m2441/2441\u001b[0m \u001b[32m━━━━━━━━━━━━━━━━━━━━\u001b[0m\u001b[37m\u001b[0m \u001b[1m2s\u001b[0m 917us/step - loss: 0.0352 - val_loss: 0.0510\n",
      "Epoch 5/50\n",
      "\u001b[1m2441/2441\u001b[0m \u001b[32m━━━━━━━━━━━━━━━━━━━━\u001b[0m\u001b[37m\u001b[0m \u001b[1m2s\u001b[0m 917us/step - loss: 0.0353 - val_loss: 0.0447\n",
      "Epoch 6/50\n",
      "\u001b[1m2441/2441\u001b[0m \u001b[32m━━━━━━━━━━━━━━━━━━━━\u001b[0m\u001b[37m\u001b[0m \u001b[1m2s\u001b[0m 944us/step - loss: 0.0354 - val_loss: 0.0486\n",
      "Epoch 7/50\n",
      "\u001b[1m2441/2441\u001b[0m \u001b[32m━━━━━━━━━━━━━━━━━━━━\u001b[0m\u001b[37m\u001b[0m \u001b[1m2s\u001b[0m 988us/step - loss: 0.0353 - val_loss: 0.0483\n",
      "Epoch 8/50\n",
      "\u001b[1m2441/2441\u001b[0m \u001b[32m━━━━━━━━━━━━━━━━━━━━\u001b[0m\u001b[37m\u001b[0m \u001b[1m2s\u001b[0m 954us/step - loss: 0.0354 - val_loss: 0.0477\n",
      "Epoch 9/50\n",
      "\u001b[1m2441/2441\u001b[0m \u001b[32m━━━━━━━━━━━━━━━━━━━━\u001b[0m\u001b[37m\u001b[0m \u001b[1m2s\u001b[0m 920us/step - loss: 0.0352 - val_loss: 0.0492\n",
      "Epoch 10/50\n",
      "\u001b[1m2441/2441\u001b[0m \u001b[32m━━━━━━━━━━━━━━━━━━━━\u001b[0m\u001b[37m\u001b[0m \u001b[1m2s\u001b[0m 905us/step - loss: 0.0355 - val_loss: 0.0461\n",
      "Epoch 11/50\n",
      "\u001b[1m2441/2441\u001b[0m \u001b[32m━━━━━━━━━━━━━━━━━━━━\u001b[0m\u001b[37m\u001b[0m \u001b[1m2s\u001b[0m 926us/step - loss: 0.0351 - val_loss: 0.0484\n",
      "Epoch 12/50\n",
      "\u001b[1m2441/2441\u001b[0m \u001b[32m━━━━━━━━━━━━━━━━━━━━\u001b[0m\u001b[37m\u001b[0m \u001b[1m2s\u001b[0m 923us/step - loss: 0.0352 - val_loss: 0.0474\n",
      "Epoch 13/50\n",
      "\u001b[1m2441/2441\u001b[0m \u001b[32m━━━━━━━━━━━━━━━━━━━━\u001b[0m\u001b[37m\u001b[0m \u001b[1m2s\u001b[0m 894us/step - loss: 0.0351 - val_loss: 0.0499\n",
      "Epoch 14/50\n",
      "\u001b[1m2441/2441\u001b[0m \u001b[32m━━━━━━━━━━━━━━━━━━━━\u001b[0m\u001b[37m\u001b[0m \u001b[1m2s\u001b[0m 897us/step - loss: 0.0353 - val_loss: 0.0482\n",
      "Epoch 15/50\n",
      "\u001b[1m2441/2441\u001b[0m \u001b[32m━━━━━━━━━━━━━━━━━━━━\u001b[0m\u001b[37m\u001b[0m \u001b[1m2s\u001b[0m 890us/step - loss: 0.0354 - val_loss: 0.0478\n",
      "Epoch 16/50\n",
      "\u001b[1m2441/2441\u001b[0m \u001b[32m━━━━━━━━━━━━━━━━━━━━\u001b[0m\u001b[37m\u001b[0m \u001b[1m2s\u001b[0m 900us/step - loss: 0.0353 - val_loss: 0.0478\n",
      "Epoch 17/50\n",
      "\u001b[1m2441/2441\u001b[0m \u001b[32m━━━━━━━━━━━━━━━━━━━━\u001b[0m\u001b[37m\u001b[0m \u001b[1m2s\u001b[0m 911us/step - loss: 0.0353 - val_loss: 0.0505\n",
      "Epoch 18/50\n",
      "\u001b[1m2441/2441\u001b[0m \u001b[32m━━━━━━━━━━━━━━━━━━━━\u001b[0m\u001b[37m\u001b[0m \u001b[1m2s\u001b[0m 888us/step - loss: 0.0352 - val_loss: 0.0471\n",
      "Epoch 19/50\n",
      "\u001b[1m2441/2441\u001b[0m \u001b[32m━━━━━━━━━━━━━━━━━━━━\u001b[0m\u001b[37m\u001b[0m \u001b[1m2s\u001b[0m 903us/step - loss: 0.0354 - val_loss: 0.0494\n",
      "Epoch 20/50\n",
      "\u001b[1m2441/2441\u001b[0m \u001b[32m━━━━━━━━━━━━━━━━━━━━\u001b[0m\u001b[37m\u001b[0m \u001b[1m2s\u001b[0m 925us/step - loss: 0.0351 - val_loss: 0.0484\n",
      "Epoch 21/50\n",
      "\u001b[1m2441/2441\u001b[0m \u001b[32m━━━━━━━━━━━━━━━━━━━━\u001b[0m\u001b[37m\u001b[0m \u001b[1m2s\u001b[0m 921us/step - loss: 0.0352 - val_loss: 0.0475\n",
      "Epoch 22/50\n",
      "\u001b[1m2441/2441\u001b[0m \u001b[32m━━━━━━━━━━━━━━━━━━━━\u001b[0m\u001b[37m\u001b[0m \u001b[1m2s\u001b[0m 888us/step - loss: 0.0353 - val_loss: 0.0474\n",
      "Epoch 23/50\n",
      "\u001b[1m2441/2441\u001b[0m \u001b[32m━━━━━━━━━━━━━━━━━━━━\u001b[0m\u001b[37m\u001b[0m \u001b[1m2s\u001b[0m 918us/step - loss: 0.0352 - val_loss: 0.0503\n",
      "Epoch 24/50\n",
      "\u001b[1m2441/2441\u001b[0m \u001b[32m━━━━━━━━━━━━━━━━━━━━\u001b[0m\u001b[37m\u001b[0m \u001b[1m2s\u001b[0m 901us/step - loss: 0.0353 - val_loss: 0.0481\n",
      "Epoch 25/50\n",
      "\u001b[1m2441/2441\u001b[0m \u001b[32m━━━━━━━━━━━━━━━━━━━━\u001b[0m\u001b[37m\u001b[0m \u001b[1m2s\u001b[0m 922us/step - loss: 0.0351 - val_loss: 0.0526\n",
      "Epoch 26/50\n",
      "\u001b[1m2441/2441\u001b[0m \u001b[32m━━━━━━━━━━━━━━━━━━━━\u001b[0m\u001b[37m\u001b[0m \u001b[1m2s\u001b[0m 960us/step - loss: 0.0352 - val_loss: 0.0487\n",
      "Epoch 27/50\n",
      "\u001b[1m2441/2441\u001b[0m \u001b[32m━━━━━━━━━━━━━━━━━━━━\u001b[0m\u001b[37m\u001b[0m \u001b[1m2s\u001b[0m 942us/step - loss: 0.0352 - val_loss: 0.0504\n",
      "Epoch 28/50\n",
      "\u001b[1m2441/2441\u001b[0m \u001b[32m━━━━━━━━━━━━━━━━━━━━\u001b[0m\u001b[37m\u001b[0m \u001b[1m2s\u001b[0m 905us/step - loss: 0.0352 - val_loss: 0.0458\n",
      "Epoch 29/50\n",
      "\u001b[1m2441/2441\u001b[0m \u001b[32m━━━━━━━━━━━━━━━━━━━━\u001b[0m\u001b[37m\u001b[0m \u001b[1m2s\u001b[0m 885us/step - loss: 0.0353 - val_loss: 0.0475\n",
      "Epoch 30/50\n",
      "\u001b[1m2441/2441\u001b[0m \u001b[32m━━━━━━━━━━━━━━━━━━━━\u001b[0m\u001b[37m\u001b[0m \u001b[1m2s\u001b[0m 911us/step - loss: 0.0353 - val_loss: 0.0480\n",
      "Epoch 31/50\n",
      "\u001b[1m2441/2441\u001b[0m \u001b[32m━━━━━━━━━━━━━━━━━━━━\u001b[0m\u001b[37m\u001b[0m \u001b[1m2s\u001b[0m 930us/step - loss: 0.0352 - val_loss: 0.0477\n",
      "Epoch 32/50\n",
      "\u001b[1m2441/2441\u001b[0m \u001b[32m━━━━━━━━━━━━━━━━━━━━\u001b[0m\u001b[37m\u001b[0m \u001b[1m2s\u001b[0m 921us/step - loss: 0.0354 - val_loss: 0.0478\n",
      "Epoch 33/50\n",
      "\u001b[1m2441/2441\u001b[0m \u001b[32m━━━━━━━━━━━━━━━━━━━━\u001b[0m\u001b[37m\u001b[0m \u001b[1m2s\u001b[0m 932us/step - loss: 0.0351 - val_loss: 0.0485\n",
      "Epoch 34/50\n",
      "\u001b[1m2441/2441\u001b[0m \u001b[32m━━━━━━━━━━━━━━━━━━━━\u001b[0m\u001b[37m\u001b[0m \u001b[1m2s\u001b[0m 911us/step - loss: 0.0351 - val_loss: 0.0483\n",
      "Epoch 35/50\n",
      "\u001b[1m2441/2441\u001b[0m \u001b[32m━━━━━━━━━━━━━━━━━━━━\u001b[0m\u001b[37m\u001b[0m \u001b[1m2s\u001b[0m 925us/step - loss: 0.0354 - val_loss: 0.0479\n",
      "Epoch 36/50\n",
      "\u001b[1m2441/2441\u001b[0m \u001b[32m━━━━━━━━━━━━━━━━━━━━\u001b[0m\u001b[37m\u001b[0m \u001b[1m2s\u001b[0m 921us/step - loss: 0.0350 - val_loss: 0.0478\n",
      "Epoch 37/50\n",
      "\u001b[1m2441/2441\u001b[0m \u001b[32m━━━━━━━━━━━━━━━━━━━━\u001b[0m\u001b[37m\u001b[0m \u001b[1m2s\u001b[0m 956us/step - loss: 0.0350 - val_loss: 0.0507\n",
      "Epoch 38/50\n",
      "\u001b[1m2441/2441\u001b[0m \u001b[32m━━━━━━━━━━━━━━━━━━━━\u001b[0m\u001b[37m\u001b[0m \u001b[1m2s\u001b[0m 955us/step - loss: 0.0351 - val_loss: 0.0495\n",
      "Epoch 39/50\n",
      "\u001b[1m2441/2441\u001b[0m \u001b[32m━━━━━━━━━━━━━━━━━━━━\u001b[0m\u001b[37m\u001b[0m \u001b[1m2s\u001b[0m 931us/step - loss: 0.0352 - val_loss: 0.0480\n",
      "Epoch 40/50\n",
      "\u001b[1m2441/2441\u001b[0m \u001b[32m━━━━━━━━━━━━━━━━━━━━\u001b[0m\u001b[37m\u001b[0m \u001b[1m2s\u001b[0m 945us/step - loss: 0.0354 - val_loss: 0.0501\n",
      "Epoch 41/50\n",
      "\u001b[1m2441/2441\u001b[0m \u001b[32m━━━━━━━━━━━━━━━━━━━━\u001b[0m\u001b[37m\u001b[0m \u001b[1m2s\u001b[0m 933us/step - loss: 0.0350 - val_loss: 0.0495\n",
      "Epoch 42/50\n",
      "\u001b[1m2441/2441\u001b[0m \u001b[32m━━━━━━━━━━━━━━━━━━━━\u001b[0m\u001b[37m\u001b[0m \u001b[1m2s\u001b[0m 898us/step - loss: 0.0351 - val_loss: 0.0484\n",
      "Epoch 43/50\n",
      "\u001b[1m2441/2441\u001b[0m \u001b[32m━━━━━━━━━━━━━━━━━━━━\u001b[0m\u001b[37m\u001b[0m \u001b[1m2s\u001b[0m 914us/step - loss: 0.0353 - val_loss: 0.0471\n",
      "Epoch 44/50\n",
      "\u001b[1m2441/2441\u001b[0m \u001b[32m━━━━━━━━━━━━━━━━━━━━\u001b[0m\u001b[37m\u001b[0m \u001b[1m2s\u001b[0m 904us/step - loss: 0.0351 - val_loss: 0.0493\n",
      "Epoch 45/50\n",
      "\u001b[1m2441/2441\u001b[0m \u001b[32m━━━━━━━━━━━━━━━━━━━━\u001b[0m\u001b[37m\u001b[0m \u001b[1m2s\u001b[0m 910us/step - loss: 0.0351 - val_loss: 0.0481\n",
      "Epoch 46/50\n",
      "\u001b[1m2441/2441\u001b[0m \u001b[32m━━━━━━━━━━━━━━━━━━━━\u001b[0m\u001b[37m\u001b[0m \u001b[1m2s\u001b[0m 908us/step - loss: 0.0353 - val_loss: 0.0466\n",
      "Epoch 47/50\n",
      "\u001b[1m2441/2441\u001b[0m \u001b[32m━━━━━━━━━━━━━━━━━━━━\u001b[0m\u001b[37m\u001b[0m \u001b[1m2s\u001b[0m 910us/step - loss: 0.0354 - val_loss: 0.0502\n",
      "Epoch 48/50\n",
      "\u001b[1m2441/2441\u001b[0m \u001b[32m━━━━━━━━━━━━━━━━━━━━\u001b[0m\u001b[37m\u001b[0m \u001b[1m2s\u001b[0m 920us/step - loss: 0.0353 - val_loss: 0.0504\n",
      "Epoch 49/50\n",
      "\u001b[1m2441/2441\u001b[0m \u001b[32m━━━━━━━━━━━━━━━━━━━━\u001b[0m\u001b[37m\u001b[0m \u001b[1m2s\u001b[0m 911us/step - loss: 0.0350 - val_loss: 0.0476\n",
      "Epoch 50/50\n",
      "\u001b[1m2441/2441\u001b[0m \u001b[32m━━━━━━━━━━━━━━━━━━━━\u001b[0m\u001b[37m\u001b[0m \u001b[1m2s\u001b[0m 896us/step - loss: 0.0353 - val_loss: 0.0491\n"
     ]
    },
    {
     "data": {
      "text/plain": [
       "<keras.src.callbacks.history.History at 0x24b45c3f790>"
      ]
     },
     "execution_count": 16,
     "metadata": {},
     "output_type": "execute_result"
    }
   ],
   "source": [
    "# Train the VAE model\n",
    "vae.fit(train_data, epochs=50, batch_size=32, validation_data=(test_data, None))\n"
   ]
  },
  {
   "cell_type": "code",
   "execution_count": 38,
   "id": "6e6fd018",
   "metadata": {},
   "outputs": [
    {
     "name": "stdout",
     "output_type": "stream",
     "text": [
      "\u001b[1m32/32\u001b[0m \u001b[32m━━━━━━━━━━━━━━━━━━━━\u001b[0m\u001b[37m\u001b[0m \u001b[1m0s\u001b[0m 868us/step\n"
     ]
    },
    {
     "data": {
      "text/html": [
       "<div>\n",
       "<style scoped>\n",
       "    .dataframe tbody tr th:only-of-type {\n",
       "        vertical-align: middle;\n",
       "    }\n",
       "\n",
       "    .dataframe tbody tr th {\n",
       "        vertical-align: top;\n",
       "    }\n",
       "\n",
       "    .dataframe thead th {\n",
       "        text-align: right;\n",
       "    }\n",
       "</style>\n",
       "<table border=\"1\" class=\"dataframe\">\n",
       "  <thead>\n",
       "    <tr style=\"text-align: right;\">\n",
       "      <th></th>\n",
       "      <th>value</th>\n",
       "    </tr>\n",
       "  </thead>\n",
       "  <tbody>\n",
       "    <tr>\n",
       "      <th>0</th>\n",
       "      <td>36.320766</td>\n",
       "    </tr>\n",
       "    <tr>\n",
       "      <th>1</th>\n",
       "      <td>36.320766</td>\n",
       "    </tr>\n",
       "    <tr>\n",
       "      <th>2</th>\n",
       "      <td>36.320766</td>\n",
       "    </tr>\n",
       "    <tr>\n",
       "      <th>3</th>\n",
       "      <td>36.694878</td>\n",
       "    </tr>\n",
       "    <tr>\n",
       "      <th>4</th>\n",
       "      <td>36.320766</td>\n",
       "    </tr>\n",
       "  </tbody>\n",
       "</table>\n",
       "</div>"
      ],
      "text/plain": [
       "       value\n",
       "0  36.320766\n",
       "1  36.320766\n",
       "2  36.320766\n",
       "3  36.694878\n",
       "4  36.320766"
      ]
     },
     "execution_count": 38,
     "metadata": {},
     "output_type": "execute_result"
    }
   ],
   "source": [
    "# Generate synthetic data\n",
    "n_samples = 1000  # Number of synthetic samples to generate\n",
    "z_samples = np.random.normal(size=(n_samples, latent_dim))\n",
    "generated_data = decoder.predict(z_samples)\n",
    "\n",
    "# Inverse transform to get back to the original scale\n",
    "generated_data = scaler.inverse_transform(generated_data)\n",
    "\n",
    "# Convert to a DataFrame for further use\n",
    "generated_df = pd.DataFrame(generated_data, columns=['value'])\n",
    "\n",
    "# Save generated_df to a CSV file\n",
    "generated_df.to_csv('generated_data.csv', index=False)\n",
    "\n",
    "generated_df.head()\n"
   ]
  },
  {
   "cell_type": "code",
   "execution_count": 54,
   "id": "7e91f0c1",
   "metadata": {},
   "outputs": [
    {
     "name": "stdout",
     "output_type": "stream",
     "text": [
      "       value         ds          y    unique_id\n",
      "0  36.320766 2022-01-01  36.320766  temp_series\n",
      "1  36.320766 2022-01-02  36.320766  temp_series\n",
      "2  36.320766 2022-01-03  36.320766  temp_series\n",
      "3  36.694878 2022-01-04  36.694878  temp_series\n",
      "4  36.320766 2022-01-05  36.320766  temp_series\n",
      "<class 'pandas.core.frame.DataFrame'>\n",
      "RangeIndex: 1000 entries, 0 to 999\n",
      "Data columns (total 4 columns):\n",
      " #   Column     Non-Null Count  Dtype         \n",
      "---  ------     --------------  -----         \n",
      " 0   value      1000 non-null   float64       \n",
      " 1   ds         1000 non-null   datetime64[ns]\n",
      " 2   y          1000 non-null   float64       \n",
      " 3   unique_id  1000 non-null   object        \n",
      "dtypes: datetime64[ns](1), float64(2), object(1)\n",
      "memory usage: 31.4+ KB\n",
      "None\n"
     ]
    }
   ],
   "source": [
    "# Load the CSV file into a DataFrame\n",
    "generated_df = pd.read_csv('generated_data.csv')\n",
    "\n",
    "# Add a 'ds' column assuming daily frequency starting from a specific date\n",
    "generated_df['ds'] = pd.date_range(start='2022-01-01', periods=len(generated_df), freq='D')\n",
    "\n",
    "# Set 'value' as 'y' for the forecast\n",
    "generated_df['y'] = generated_df['value']\n",
    "\n",
    "# Add a constant 'unique_id' since you have one series\n",
    "generated_df['unique_id'] = 'temp_series'\n",
    "\n",
    "# Display the first few rows of the DataFrame\n",
    "print(generated_df.head())\n",
    "\n",
    "# Show summary information including data types and non-null counts\n",
    "print(generated_df.info())\n"
   ]
  },
  {
   "cell_type": "code",
   "execution_count": 55,
   "id": "d97503c7",
   "metadata": {},
   "outputs": [
    {
     "name": "stdout",
     "output_type": "stream",
     "text": [
      "       unique_id         ds  RandomForestRegressor\n",
      "0    temp_series 2024-03-11              36.498829\n",
      "1    temp_series 2024-03-12              36.498734\n",
      "2    temp_series 2024-03-13              36.498919\n",
      "3    temp_series 2024-03-14              36.498919\n",
      "4    temp_series 2024-03-15              36.498976\n",
      "..           ...        ...                    ...\n",
      "795  temp_series 2026-05-15              36.498918\n",
      "796  temp_series 2026-05-16              36.498918\n",
      "797  temp_series 2026-05-17              36.498915\n",
      "798  temp_series 2026-05-18              36.498915\n",
      "799  temp_series 2026-05-19              36.498806\n",
      "\n",
      "[800 rows x 3 columns]\n"
     ]
    }
   ],
   "source": [
    "# Define the model to evaluate\n",
    "model = RandomForestRegressor(n_estimators=100)\n",
    "\n",
    "forecaster = MLForecast(\n",
    "    models=[\n",
    "        (model)\n",
    "    ],\n",
    "    freq='D',  # Daily frequency\n",
    "    lags=[1, 2, 3],  # Include lags 1, 2, and 3\n",
    "    date_features=['year', 'month', 'day'],  # Include year, month, and day as date features\n",
    "    num_threads= multiprocessing.cpu_count()  # Use cores from above for parallel processing\n",
    ")\n",
    "\n",
    "generated_train_size = int(len(generated_df) * 0.8)\n",
    "generated_train, generated_test = generated_df[:generated_train_size], generated_df[generated_train_size:]\n",
    "\n",
    "\n",
    "forecaster.fit(generated_train)\n",
    "generated_prediction = forecaster.predict(len(generated_train))\n",
    "\n",
    "print(generated_prediction)"
   ]
  }
 ],
 "metadata": {
  "kernelspec": {
   "display_name": "Python 3 (ipykernel)",
   "language": "python",
   "name": "python3"
  },
  "language_info": {
   "codemirror_mode": {
    "name": "ipython",
    "version": 3
   },
   "file_extension": ".py",
   "mimetype": "text/x-python",
   "name": "python",
   "nbconvert_exporter": "python",
   "pygments_lexer": "ipython3",
   "version": "3.10.12"
  }
 },
 "nbformat": 4,
 "nbformat_minor": 5
}
